{
 "cells": [
  {
   "cell_type": "code",
   "execution_count": 2,
   "metadata": {},
   "outputs": [],
   "source": [
    "import numpy as np\n",
    "import pandas as pd\n",
    "\n",
    "import pytz\n",
    "\n",
    "import astropy.units as u\n",
    "from astropy.time import Time\n",
    "from astropy.coordinates import SkyCoord, EarthLocation\n",
    "from astroplan import Observer, FixedTarget\n",
    "\n",
    "import warnings\n",
    "warnings.filterwarnings('ignore', category=Warning)\n",
    "\n",
    "\n",
    "from astroplan.plots import plot_sky, plot_airmass\n",
    "from astroplan import Observer, FixedTarget, time_grid_from_range, observability_table, moon_illumination\n",
    "from astroplan import AirmassConstraint, MoonSeparationConstraint\n"
   ]
  },
  {
   "cell_type": "code",
   "execution_count": 3,
   "metadata": {},
   "outputs": [
    {
     "data": {
      "text/html": [
       "<div>\n",
       "<style scoped>\n",
       "    .dataframe tbody tr th:only-of-type {\n",
       "        vertical-align: middle;\n",
       "    }\n",
       "\n",
       "    .dataframe tbody tr th {\n",
       "        vertical-align: top;\n",
       "    }\n",
       "\n",
       "    .dataframe thead th {\n",
       "        text-align: right;\n",
       "    }\n",
       "</style>\n",
       "<table border=\"1\" class=\"dataframe\">\n",
       "  <thead>\n",
       "    <tr style=\"text-align: right;\">\n",
       "      <th></th>\n",
       "      <th>Name</th>\n",
       "      <th>RA</th>\n",
       "      <th>Dec</th>\n",
       "    </tr>\n",
       "  </thead>\n",
       "  <tbody>\n",
       "    <tr>\n",
       "      <th>204</th>\n",
       "      <td>WKK 4098</td>\n",
       "      <td>14 35 57.25</td>\n",
       "      <td>-51 55 05.5</td>\n",
       "    </tr>\n",
       "    <tr>\n",
       "      <th>205</th>\n",
       "      <td>2MASX J14381221-7239480</td>\n",
       "      <td>14 38 08.90</td>\n",
       "      <td>-72 39 21.0</td>\n",
       "    </tr>\n",
       "    <tr>\n",
       "      <th>206</th>\n",
       "      <td>2MASX J14382229-7240149</td>\n",
       "      <td>14 38 22.25</td>\n",
       "      <td>-72 40 12.0</td>\n",
       "    </tr>\n",
       "    <tr>\n",
       "      <th>207</th>\n",
       "      <td>WKK 4172</td>\n",
       "      <td>14 42 08.55</td>\n",
       "      <td>-48 53 07.5</td>\n",
       "    </tr>\n",
       "    <tr>\n",
       "      <th>208</th>\n",
       "      <td>WKK 4260</td>\n",
       "      <td>14 45 40.10</td>\n",
       "      <td>-49 20 54.5</td>\n",
       "    </tr>\n",
       "    <tr>\n",
       "      <th>209</th>\n",
       "      <td>WKK 4266</td>\n",
       "      <td>14 45 49.25</td>\n",
       "      <td>-49 22 48.0</td>\n",
       "    </tr>\n",
       "    <tr>\n",
       "      <th>210</th>\n",
       "      <td>WKK 4551</td>\n",
       "      <td>15 01 13.80</td>\n",
       "      <td>-47 59 11.0</td>\n",
       "    </tr>\n",
       "    <tr>\n",
       "      <th>211</th>\n",
       "      <td>2MASX J15035031-7729407</td>\n",
       "      <td>15 03 49.75</td>\n",
       "      <td>-77 29 40.0</td>\n",
       "    </tr>\n",
       "    <tr>\n",
       "      <th>212</th>\n",
       "      <td>ESO 067-G005</td>\n",
       "      <td>15 04 35.35</td>\n",
       "      <td>-72 36 56.5</td>\n",
       "    </tr>\n",
       "    <tr>\n",
       "      <th>213</th>\n",
       "      <td>WKK 4603</td>\n",
       "      <td>15 05 29.10</td>\n",
       "      <td>-49 34 07.0</td>\n",
       "    </tr>\n",
       "    <tr>\n",
       "      <th>214</th>\n",
       "      <td>2MASX J15112003-7511321</td>\n",
       "      <td>15 11 19.85</td>\n",
       "      <td>-75 11 30.0</td>\n",
       "    </tr>\n",
       "    <tr>\n",
       "      <th>215</th>\n",
       "      <td>WKK 4711</td>\n",
       "      <td>15 12 31.95</td>\n",
       "      <td>-49 34 01.5</td>\n",
       "    </tr>\n",
       "    <tr>\n",
       "      <th>216</th>\n",
       "      <td>WKK 4835</td>\n",
       "      <td>15 19 40.80</td>\n",
       "      <td>-48 57 45.0</td>\n",
       "    </tr>\n",
       "    <tr>\n",
       "      <th>217</th>\n",
       "      <td>2MASX J15245536-7213431</td>\n",
       "      <td>15 24 55.50</td>\n",
       "      <td>-72 13 42.5</td>\n",
       "    </tr>\n",
       "    <tr>\n",
       "      <th>218</th>\n",
       "      <td>2MASX J15251105-7706132</td>\n",
       "      <td>15 25 10.55</td>\n",
       "      <td>-77 06 14.5</td>\n",
       "    </tr>\n",
       "    <tr>\n",
       "      <th>219</th>\n",
       "      <td>WKK 4915</td>\n",
       "      <td>15 25 56.80</td>\n",
       "      <td>-50 38 51.0</td>\n",
       "    </tr>\n",
       "  </tbody>\n",
       "</table>\n",
       "</div>"
      ],
      "text/plain": [
       "                        Name           RA          Dec\n",
       "204  WKK 4098                 14 35 57.25  -51 55 05.5\n",
       "205  2MASX J14381221-7239480  14 38 08.90  -72 39 21.0\n",
       "206  2MASX J14382229-7240149  14 38 22.25  -72 40 12.0\n",
       "207  WKK 4172                 14 42 08.55  -48 53 07.5\n",
       "208  WKK 4260                 14 45 40.10  -49 20 54.5\n",
       "209  WKK 4266                 14 45 49.25  -49 22 48.0\n",
       "210  WKK 4551                 15 01 13.80  -47 59 11.0\n",
       "211  2MASX J15035031-7729407  15 03 49.75  -77 29 40.0\n",
       "212  ESO 067-G005             15 04 35.35  -72 36 56.5\n",
       "213  WKK 4603                 15 05 29.10  -49 34 07.0\n",
       "214  2MASX J15112003-7511321  15 11 19.85  -75 11 30.0\n",
       "215  WKK 4711                 15 12 31.95  -49 34 01.5\n",
       "216  WKK 4835                 15 19 40.80  -48 57 45.0\n",
       "217  2MASX J15245536-7213431  15 24 55.50  -72 13 42.5\n",
       "218  2MASX J15251105-7706132  15 25 10.55  -77 06 14.5\n",
       "219  WKK 4915                 15 25 56.80  -50 38 51.0"
      ]
     },
     "execution_count": 3,
     "metadata": {},
     "output_type": "execute_result"
    }
   ],
   "source": [
    "catalog = pd.read_csv('./Data/galaxies.csv', skiprows=58, sep=';', usecols=[2,3,4], names=['Name', 'RA', 'Dec'])\n",
    "new = catalog[204:220]\n",
    "new"
   ]
  },
  {
   "cell_type": "code",
   "execution_count": 15,
   "metadata": {},
   "outputs": [
    {
     "data": {
      "text/html": [
       "<div>\n",
       "<style scoped>\n",
       "    .dataframe tbody tr th:only-of-type {\n",
       "        vertical-align: middle;\n",
       "    }\n",
       "\n",
       "    .dataframe tbody tr th {\n",
       "        vertical-align: top;\n",
       "    }\n",
       "\n",
       "    .dataframe thead th {\n",
       "        text-align: right;\n",
       "    }\n",
       "</style>\n",
       "<table border=\"1\" class=\"dataframe\">\n",
       "  <thead>\n",
       "    <tr style=\"text-align: right;\">\n",
       "      <th></th>\n",
       "      <th>Name</th>\n",
       "      <th>RA</th>\n",
       "      <th>Dec</th>\n",
       "    </tr>\n",
       "  </thead>\n",
       "  <tbody>\n",
       "    <tr>\n",
       "      <th>204</th>\n",
       "      <td>WKK 4098</td>\n",
       "      <td>14 35 57.25</td>\n",
       "      <td>-51 55 05.5</td>\n",
       "    </tr>\n",
       "    <tr>\n",
       "      <th>205</th>\n",
       "      <td>2MASX J14381221-7239480</td>\n",
       "      <td>14 38 08.90</td>\n",
       "      <td>-72 39 21.0</td>\n",
       "    </tr>\n",
       "    <tr>\n",
       "      <th>206</th>\n",
       "      <td>2MASX J14382229-7240149</td>\n",
       "      <td>14 38 22.25</td>\n",
       "      <td>-72 40 12.0</td>\n",
       "    </tr>\n",
       "    <tr>\n",
       "      <th>207</th>\n",
       "      <td>WKK 4172</td>\n",
       "      <td>14 42 08.55</td>\n",
       "      <td>-48 53 07.5</td>\n",
       "    </tr>\n",
       "    <tr>\n",
       "      <th>208</th>\n",
       "      <td>WKK 4260</td>\n",
       "      <td>14 45 40.10</td>\n",
       "      <td>-49 20 54.5</td>\n",
       "    </tr>\n",
       "    <tr>\n",
       "      <th>209</th>\n",
       "      <td>WKK 4266</td>\n",
       "      <td>14 45 49.25</td>\n",
       "      <td>-49 22 48.0</td>\n",
       "    </tr>\n",
       "    <tr>\n",
       "      <th>210</th>\n",
       "      <td>WKK 4551</td>\n",
       "      <td>15 01 13.80</td>\n",
       "      <td>-47 59 11.0</td>\n",
       "    </tr>\n",
       "    <tr>\n",
       "      <th>211</th>\n",
       "      <td>2MASX J15035031-7729407</td>\n",
       "      <td>15 03 49.75</td>\n",
       "      <td>-77 29 40.0</td>\n",
       "    </tr>\n",
       "    <tr>\n",
       "      <th>212</th>\n",
       "      <td>ESO 067-G005</td>\n",
       "      <td>15 04 35.35</td>\n",
       "      <td>-72 36 56.5</td>\n",
       "    </tr>\n",
       "    <tr>\n",
       "      <th>213</th>\n",
       "      <td>WKK 4603</td>\n",
       "      <td>15 05 29.10</td>\n",
       "      <td>-49 34 07.0</td>\n",
       "    </tr>\n",
       "  </tbody>\n",
       "</table>\n",
       "</div>"
      ],
      "text/plain": [
       "                        Name           RA          Dec\n",
       "204  WKK 4098                 14 35 57.25  -51 55 05.5\n",
       "205  2MASX J14381221-7239480  14 38 08.90  -72 39 21.0\n",
       "206  2MASX J14382229-7240149  14 38 22.25  -72 40 12.0\n",
       "207  WKK 4172                 14 42 08.55  -48 53 07.5\n",
       "208  WKK 4260                 14 45 40.10  -49 20 54.5\n",
       "209  WKK 4266                 14 45 49.25  -49 22 48.0\n",
       "210  WKK 4551                 15 01 13.80  -47 59 11.0\n",
       "211  2MASX J15035031-7729407  15 03 49.75  -77 29 40.0\n",
       "212  ESO 067-G005             15 04 35.35  -72 36 56.5\n",
       "213  WKK 4603                 15 05 29.10  -49 34 07.0"
      ]
     },
     "execution_count": 15,
     "metadata": {},
     "output_type": "execute_result"
    }
   ],
   "source": [
    "newnew = catalog[204:214]\n",
    "newnew"
   ]
  },
  {
   "cell_type": "code",
   "execution_count": 16,
   "metadata": {},
   "outputs": [],
   "source": [
    "## PLEASE NOTE THAT THIS WAS PREVIOUS CODE FROM BEFORE THAT IS NO LONGER NEEDED. \n",
    "# We used this when dealing with a previous catalog.\n",
    "\n",
    "# dropping null value columns to avoid errors \n",
    "#catalog.dropna(inplace = True) \n",
    "  \n",
    "# new data frame with split value columns \n",
    "#new = catalog[\"RA Dec\"].str.split(\" \", n = 1, expand = True) \n",
    "  \n",
    "# making seperate first name column from new data frame \n",
    "#catalog[\"RA\"]= new[0].astype(float)/15 \n",
    "  \n",
    "# making seperate last name column from new data frame \n",
    "#catalog[\"Dec\"]= new[1] \n",
    "  \n",
    "# Dropping old Name columns \n",
    "#good_catalog = catalog.drop(columns =[\"RA Dec\"]) \n",
    "  \n",
    "# df display \n",
    "#catalog.to_csv('./Data/good_galaxies.csv')\n",
    "\n",
    "#target_table = pd.read_csv('./Data/good_catalog.csv', index_col=0)\n",
    "#target_table = pd.read_csv('./Data/good_galaxies.csv', index_col=0)\n",
    "\n",
    "#our_targets = target_table.query('(RA > 14) & (RA < 15)') #this is the range of RA from May 1-May 15\n",
    "#our_targets"
   ]
  },
  {
   "cell_type": "code",
   "execution_count": 9,
   "metadata": {},
   "outputs": [],
   "source": [
    "may_1 = Time(\"2019-05-01 12:00:00\")\n",
    "may_15 =Time(\"2019-05-15 12:00:00\")\n",
    "\n",
    "\n",
    "midnight_CTIO_1 = CTIO.midnight(may_1, which='next')\n",
    "midnight_CTIO_15 = CTIO.midnight(may_15, which='next')\n",
    "\n",
    "# Local Siderial Time (LST) will tell you the Right Ascension on the meridian at a specific time.\n"
   ]
  },
  {
   "cell_type": "code",
   "execution_count": 11,
   "metadata": {},
   "outputs": [
    {
     "data": {
      "text/latex": [
       "$14^\\mathrm{h}34^\\mathrm{m}51.9053^\\mathrm{s}$"
      ],
      "text/plain": [
       "<Longitude 14.58108482 hourangle>"
      ]
     },
     "execution_count": 11,
     "metadata": {},
     "output_type": "execute_result"
    }
   ],
   "source": [
    "CTIO.local_sidereal_time(midnight_CTIO_1)\n"
   ]
  },
  {
   "cell_type": "code",
   "execution_count": 12,
   "metadata": {},
   "outputs": [
    {
     "data": {
      "text/latex": [
       "$15^\\mathrm{h}29^\\mathrm{m}18.5589^\\mathrm{s}$"
      ],
      "text/plain": [
       "<Longitude 15.4884886 hourangle>"
      ]
     },
     "execution_count": 12,
     "metadata": {},
     "output_type": "execute_result"
    }
   ],
   "source": [
    "CTIO.local_sidereal_time(midnight_CTIO_15)"
   ]
  },
  {
   "cell_type": "code",
   "execution_count": 4,
   "metadata": {},
   "outputs": [],
   "source": [
    "CTIO = Observer(longitude = 70.815 * u.deg,\n",
    "                      latitude = -30.16527778 * u.deg,\n",
    "                       elevation = 2788 * u.m,\n",
    "                        timezone = 'America/Santiago',\n",
    "                       name = \"Cerro Tololo Interamerican Observatory\"\n",
    "                      )\n",
    "\n"
   ]
  },
  {
   "cell_type": "code",
   "execution_count": 18,
   "metadata": {},
   "outputs": [
    {
     "data": {
      "text/plain": [
       "array([['WKK 4098               ', '14 35 57.25', '-51 55 05.5'],\n",
       "       ['2MASX J14381221-7239480', '14 38 08.90', '-72 39 21.0'],\n",
       "       ['2MASX J14382229-7240149', '14 38 22.25', '-72 40 12.0'],\n",
       "       ['WKK 4172               ', '14 42 08.55', '-48 53 07.5'],\n",
       "       ['WKK 4260               ', '14 45 40.10', '-49 20 54.5'],\n",
       "       ['WKK 4266               ', '14 45 49.25', '-49 22 48.0'],\n",
       "       ['WKK 4551               ', '15 01 13.80', '-47 59 11.0'],\n",
       "       ['2MASX J15035031-7729407', '15 03 49.75', '-77 29 40.0'],\n",
       "       ['ESO 067-G005           ', '15 04 35.35', '-72 36 56.5'],\n",
       "       ['WKK 4603               ', '15 05 29.10', '-49 34 07.0']],\n",
       "      dtype=object)"
      ]
     },
     "execution_count": 18,
     "metadata": {},
     "output_type": "execute_result"
    }
   ],
   "source": [
    "table_values = newnew.as_matrix()\n",
    "table_values"
   ]
  },
  {
   "cell_type": "code",
   "execution_count": 19,
   "metadata": {},
   "outputs": [
    {
     "name": "stdout",
     "output_type": "stream",
     "text": [
      "      target name       ever observable ... fraction of time observable\n",
      "----------------------- --------------- ... ---------------------------\n",
      "WKK 4098                           True ...          0.9523809523809523\n",
      "2MASX J14381221-7239480            True ...          0.9523809523809523\n",
      "2MASX J14382229-7240149            True ...          0.9523809523809523\n",
      "WKK 4172                           True ...          0.9047619047619048\n",
      "WKK 4260                           True ...          0.9047619047619048\n",
      "WKK 4266                           True ...          0.9047619047619048\n",
      "WKK 4551                           True ...          0.9047619047619048\n",
      "2MASX J15035031-7729407            True ...          0.8571428571428571\n",
      "ESO 067-G005                       True ...          0.9047619047619048\n",
      "WKK 4603                           True ...          0.9047619047619048\n"
     ]
    }
   ],
   "source": [
    "targets = [FixedTarget(coord=SkyCoord(ra = RA, dec = Dec, unit=(u.hourangle, u.deg)), name=Name)\n",
    "           for Name, RA, Dec in table_values]\n",
    "\n",
    "constraints = [AirmassConstraint(1.8)]\n",
    "\n",
    "window_start = Time(\"2019-05-01 12:00:00\")\n",
    "window_end = Time(\"2019-05-15 12:00:00\")\n",
    "\n",
    "observe_start = CTIO.twilight_evening_astronomical(window_start, which='nearest')\n",
    "observe_end = CTIO.twilight_morning_astronomical(window_start, which='next')\n",
    "    \n",
    "observing_range = [observe_start, observe_end]\n",
    "observing_table = observability_table(constraints, CTIO, targets, time_range=observing_range)\n",
    "print(observing_table)"
   ]
  },
  {
   "cell_type": "code",
   "execution_count": null,
   "metadata": {},
   "outputs": [],
   "source": []
  }
 ],
 "metadata": {
  "kernelspec": {
   "display_name": "Python 3",
   "language": "python",
   "name": "python3"
  },
  "language_info": {
   "codemirror_mode": {
    "name": "ipython",
    "version": 3
   },
   "file_extension": ".py",
   "mimetype": "text/x-python",
   "name": "python",
   "nbconvert_exporter": "python",
   "pygments_lexer": "ipython3",
   "version": "3.5.6"
  }
 },
 "nbformat": 4,
 "nbformat_minor": 2
}
